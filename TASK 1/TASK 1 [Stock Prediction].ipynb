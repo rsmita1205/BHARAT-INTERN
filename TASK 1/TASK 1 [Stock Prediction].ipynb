{
 "cells": [
  {
   "cell_type": "markdown",
   "id": "9564463f",
   "metadata": {},
   "source": [
    "#### Import necessary libraries"
   ]
  },
  {
   "cell_type": "code",
   "execution_count": 1,
   "id": "9687a254",
   "metadata": {},
   "outputs": [],
   "source": [
    "import numpy as np\n",
    "import pandas as pd\n",
    "import matplotlib.pyplot as plt\n",
    "from sklearn.preprocessing import MinMaxScaler\n",
    "from tensorflow.keras.models import Sequential\n",
    "from tensorflow.keras.layers import LSTM, Dense\n",
    "from sklearn.metrics import mean_squared_error \n",
    "#from sklearn.metrics import mean_absolute_error, mean_squared_error, mean_absolute_percentage_error, r2_score\n",
    "from math import sqrt"
   ]
  },
  {
   "cell_type": "markdown",
   "id": "e3cc7866",
   "metadata": {},
   "source": [
    "#### Load the dataset"
   ]
  },
  {
   "cell_type": "code",
   "execution_count": 2,
   "id": "2c1d3258",
   "metadata": {},
   "outputs": [],
   "source": [
    "df = pd.read_csv(r'F:\\INTERNSHIPS\\BHARAT INTERN\\TASK 1\\Dataset for Task 1\\AAPL.csv')"
   ]
  },
  {
   "cell_type": "markdown",
   "id": "9cc33c14",
   "metadata": {},
   "source": [
    "#### Reading the dataset"
   ]
  },
  {
   "cell_type": "code",
   "execution_count": 3,
   "id": "b981522c",
   "metadata": {},
   "outputs": [
    {
     "data": {
      "text/html": [
       "<div>\n",
       "<style scoped>\n",
       "    .dataframe tbody tr th:only-of-type {\n",
       "        vertical-align: middle;\n",
       "    }\n",
       "\n",
       "    .dataframe tbody tr th {\n",
       "        vertical-align: top;\n",
       "    }\n",
       "\n",
       "    .dataframe thead th {\n",
       "        text-align: right;\n",
       "    }\n",
       "</style>\n",
       "<table border=\"1\" class=\"dataframe\">\n",
       "  <thead>\n",
       "    <tr style=\"text-align: right;\">\n",
       "      <th></th>\n",
       "      <th>Unnamed: 0</th>\n",
       "      <th>symbol</th>\n",
       "      <th>date</th>\n",
       "      <th>close</th>\n",
       "      <th>high</th>\n",
       "      <th>low</th>\n",
       "      <th>open</th>\n",
       "      <th>volume</th>\n",
       "      <th>adjClose</th>\n",
       "      <th>adjHigh</th>\n",
       "      <th>adjLow</th>\n",
       "      <th>adjOpen</th>\n",
       "      <th>adjVolume</th>\n",
       "      <th>divCash</th>\n",
       "      <th>splitFactor</th>\n",
       "    </tr>\n",
       "  </thead>\n",
       "  <tbody>\n",
       "    <tr>\n",
       "      <th>0</th>\n",
       "      <td>0</td>\n",
       "      <td>AAPL</td>\n",
       "      <td>2015-05-27 00:00:00+00:00</td>\n",
       "      <td>132.045</td>\n",
       "      <td>132.260</td>\n",
       "      <td>130.05</td>\n",
       "      <td>130.34</td>\n",
       "      <td>45833246</td>\n",
       "      <td>121.682558</td>\n",
       "      <td>121.880685</td>\n",
       "      <td>119.844118</td>\n",
       "      <td>120.111360</td>\n",
       "      <td>45833246</td>\n",
       "      <td>0.0</td>\n",
       "      <td>1.0</td>\n",
       "    </tr>\n",
       "    <tr>\n",
       "      <th>1</th>\n",
       "      <td>1</td>\n",
       "      <td>AAPL</td>\n",
       "      <td>2015-05-28 00:00:00+00:00</td>\n",
       "      <td>131.780</td>\n",
       "      <td>131.950</td>\n",
       "      <td>131.10</td>\n",
       "      <td>131.86</td>\n",
       "      <td>30733309</td>\n",
       "      <td>121.438354</td>\n",
       "      <td>121.595013</td>\n",
       "      <td>120.811718</td>\n",
       "      <td>121.512076</td>\n",
       "      <td>30733309</td>\n",
       "      <td>0.0</td>\n",
       "      <td>1.0</td>\n",
       "    </tr>\n",
       "    <tr>\n",
       "      <th>2</th>\n",
       "      <td>2</td>\n",
       "      <td>AAPL</td>\n",
       "      <td>2015-05-29 00:00:00+00:00</td>\n",
       "      <td>130.280</td>\n",
       "      <td>131.450</td>\n",
       "      <td>129.90</td>\n",
       "      <td>131.23</td>\n",
       "      <td>50884452</td>\n",
       "      <td>120.056069</td>\n",
       "      <td>121.134251</td>\n",
       "      <td>119.705890</td>\n",
       "      <td>120.931516</td>\n",
       "      <td>50884452</td>\n",
       "      <td>0.0</td>\n",
       "      <td>1.0</td>\n",
       "    </tr>\n",
       "    <tr>\n",
       "      <th>3</th>\n",
       "      <td>3</td>\n",
       "      <td>AAPL</td>\n",
       "      <td>2015-06-01 00:00:00+00:00</td>\n",
       "      <td>130.535</td>\n",
       "      <td>131.390</td>\n",
       "      <td>130.05</td>\n",
       "      <td>131.20</td>\n",
       "      <td>32112797</td>\n",
       "      <td>120.291057</td>\n",
       "      <td>121.078960</td>\n",
       "      <td>119.844118</td>\n",
       "      <td>120.903870</td>\n",
       "      <td>32112797</td>\n",
       "      <td>0.0</td>\n",
       "      <td>1.0</td>\n",
       "    </tr>\n",
       "    <tr>\n",
       "      <th>4</th>\n",
       "      <td>4</td>\n",
       "      <td>AAPL</td>\n",
       "      <td>2015-06-02 00:00:00+00:00</td>\n",
       "      <td>129.960</td>\n",
       "      <td>130.655</td>\n",
       "      <td>129.32</td>\n",
       "      <td>129.86</td>\n",
       "      <td>33667627</td>\n",
       "      <td>119.761181</td>\n",
       "      <td>120.401640</td>\n",
       "      <td>119.171406</td>\n",
       "      <td>119.669029</td>\n",
       "      <td>33667627</td>\n",
       "      <td>0.0</td>\n",
       "      <td>1.0</td>\n",
       "    </tr>\n",
       "  </tbody>\n",
       "</table>\n",
       "</div>"
      ],
      "text/plain": [
       "   Unnamed: 0 symbol                       date    close     high     low  \\\n",
       "0           0   AAPL  2015-05-27 00:00:00+00:00  132.045  132.260  130.05   \n",
       "1           1   AAPL  2015-05-28 00:00:00+00:00  131.780  131.950  131.10   \n",
       "2           2   AAPL  2015-05-29 00:00:00+00:00  130.280  131.450  129.90   \n",
       "3           3   AAPL  2015-06-01 00:00:00+00:00  130.535  131.390  130.05   \n",
       "4           4   AAPL  2015-06-02 00:00:00+00:00  129.960  130.655  129.32   \n",
       "\n",
       "     open    volume    adjClose     adjHigh      adjLow     adjOpen  \\\n",
       "0  130.34  45833246  121.682558  121.880685  119.844118  120.111360   \n",
       "1  131.86  30733309  121.438354  121.595013  120.811718  121.512076   \n",
       "2  131.23  50884452  120.056069  121.134251  119.705890  120.931516   \n",
       "3  131.20  32112797  120.291057  121.078960  119.844118  120.903870   \n",
       "4  129.86  33667627  119.761181  120.401640  119.171406  119.669029   \n",
       "\n",
       "   adjVolume  divCash  splitFactor  \n",
       "0   45833246      0.0          1.0  \n",
       "1   30733309      0.0          1.0  \n",
       "2   50884452      0.0          1.0  \n",
       "3   32112797      0.0          1.0  \n",
       "4   33667627      0.0          1.0  "
      ]
     },
     "execution_count": 3,
     "metadata": {},
     "output_type": "execute_result"
    }
   ],
   "source": [
    "# First 5 rows of dataset\n",
    "df.head()"
   ]
  },
  {
   "cell_type": "code",
   "execution_count": 4,
   "id": "7dc6157e",
   "metadata": {},
   "outputs": [
    {
     "data": {
      "text/html": [
       "<div>\n",
       "<style scoped>\n",
       "    .dataframe tbody tr th:only-of-type {\n",
       "        vertical-align: middle;\n",
       "    }\n",
       "\n",
       "    .dataframe tbody tr th {\n",
       "        vertical-align: top;\n",
       "    }\n",
       "\n",
       "    .dataframe thead th {\n",
       "        text-align: right;\n",
       "    }\n",
       "</style>\n",
       "<table border=\"1\" class=\"dataframe\">\n",
       "  <thead>\n",
       "    <tr style=\"text-align: right;\">\n",
       "      <th></th>\n",
       "      <th>Unnamed: 0</th>\n",
       "      <th>symbol</th>\n",
       "      <th>date</th>\n",
       "      <th>close</th>\n",
       "      <th>high</th>\n",
       "      <th>low</th>\n",
       "      <th>open</th>\n",
       "      <th>volume</th>\n",
       "      <th>adjClose</th>\n",
       "      <th>adjHigh</th>\n",
       "      <th>adjLow</th>\n",
       "      <th>adjOpen</th>\n",
       "      <th>adjVolume</th>\n",
       "      <th>divCash</th>\n",
       "      <th>splitFactor</th>\n",
       "    </tr>\n",
       "  </thead>\n",
       "  <tbody>\n",
       "    <tr>\n",
       "      <th>1253</th>\n",
       "      <td>1253</td>\n",
       "      <td>AAPL</td>\n",
       "      <td>2020-05-18 00:00:00+00:00</td>\n",
       "      <td>314.96</td>\n",
       "      <td>316.50</td>\n",
       "      <td>310.3241</td>\n",
       "      <td>313.17</td>\n",
       "      <td>33843125</td>\n",
       "      <td>314.96</td>\n",
       "      <td>316.50</td>\n",
       "      <td>310.3241</td>\n",
       "      <td>313.17</td>\n",
       "      <td>33843125</td>\n",
       "      <td>0.0</td>\n",
       "      <td>1.0</td>\n",
       "    </tr>\n",
       "    <tr>\n",
       "      <th>1254</th>\n",
       "      <td>1254</td>\n",
       "      <td>AAPL</td>\n",
       "      <td>2020-05-19 00:00:00+00:00</td>\n",
       "      <td>313.14</td>\n",
       "      <td>318.52</td>\n",
       "      <td>313.0100</td>\n",
       "      <td>315.03</td>\n",
       "      <td>25432385</td>\n",
       "      <td>313.14</td>\n",
       "      <td>318.52</td>\n",
       "      <td>313.0100</td>\n",
       "      <td>315.03</td>\n",
       "      <td>25432385</td>\n",
       "      <td>0.0</td>\n",
       "      <td>1.0</td>\n",
       "    </tr>\n",
       "    <tr>\n",
       "      <th>1255</th>\n",
       "      <td>1255</td>\n",
       "      <td>AAPL</td>\n",
       "      <td>2020-05-20 00:00:00+00:00</td>\n",
       "      <td>319.23</td>\n",
       "      <td>319.52</td>\n",
       "      <td>316.2000</td>\n",
       "      <td>316.68</td>\n",
       "      <td>27876215</td>\n",
       "      <td>319.23</td>\n",
       "      <td>319.52</td>\n",
       "      <td>316.2000</td>\n",
       "      <td>316.68</td>\n",
       "      <td>27876215</td>\n",
       "      <td>0.0</td>\n",
       "      <td>1.0</td>\n",
       "    </tr>\n",
       "    <tr>\n",
       "      <th>1256</th>\n",
       "      <td>1256</td>\n",
       "      <td>AAPL</td>\n",
       "      <td>2020-05-21 00:00:00+00:00</td>\n",
       "      <td>316.85</td>\n",
       "      <td>320.89</td>\n",
       "      <td>315.8700</td>\n",
       "      <td>318.66</td>\n",
       "      <td>25672211</td>\n",
       "      <td>316.85</td>\n",
       "      <td>320.89</td>\n",
       "      <td>315.8700</td>\n",
       "      <td>318.66</td>\n",
       "      <td>25672211</td>\n",
       "      <td>0.0</td>\n",
       "      <td>1.0</td>\n",
       "    </tr>\n",
       "    <tr>\n",
       "      <th>1257</th>\n",
       "      <td>1257</td>\n",
       "      <td>AAPL</td>\n",
       "      <td>2020-05-22 00:00:00+00:00</td>\n",
       "      <td>318.89</td>\n",
       "      <td>319.23</td>\n",
       "      <td>315.3500</td>\n",
       "      <td>315.77</td>\n",
       "      <td>20450754</td>\n",
       "      <td>318.89</td>\n",
       "      <td>319.23</td>\n",
       "      <td>315.3500</td>\n",
       "      <td>315.77</td>\n",
       "      <td>20450754</td>\n",
       "      <td>0.0</td>\n",
       "      <td>1.0</td>\n",
       "    </tr>\n",
       "  </tbody>\n",
       "</table>\n",
       "</div>"
      ],
      "text/plain": [
       "      Unnamed: 0 symbol                       date   close    high       low  \\\n",
       "1253        1253   AAPL  2020-05-18 00:00:00+00:00  314.96  316.50  310.3241   \n",
       "1254        1254   AAPL  2020-05-19 00:00:00+00:00  313.14  318.52  313.0100   \n",
       "1255        1255   AAPL  2020-05-20 00:00:00+00:00  319.23  319.52  316.2000   \n",
       "1256        1256   AAPL  2020-05-21 00:00:00+00:00  316.85  320.89  315.8700   \n",
       "1257        1257   AAPL  2020-05-22 00:00:00+00:00  318.89  319.23  315.3500   \n",
       "\n",
       "        open    volume  adjClose  adjHigh    adjLow  adjOpen  adjVolume  \\\n",
       "1253  313.17  33843125    314.96   316.50  310.3241   313.17   33843125   \n",
       "1254  315.03  25432385    313.14   318.52  313.0100   315.03   25432385   \n",
       "1255  316.68  27876215    319.23   319.52  316.2000   316.68   27876215   \n",
       "1256  318.66  25672211    316.85   320.89  315.8700   318.66   25672211   \n",
       "1257  315.77  20450754    318.89   319.23  315.3500   315.77   20450754   \n",
       "\n",
       "      divCash  splitFactor  \n",
       "1253      0.0          1.0  \n",
       "1254      0.0          1.0  \n",
       "1255      0.0          1.0  \n",
       "1256      0.0          1.0  \n",
       "1257      0.0          1.0  "
      ]
     },
     "execution_count": 4,
     "metadata": {},
     "output_type": "execute_result"
    }
   ],
   "source": [
    "# Last five rows of dataset\n",
    "df.tail()"
   ]
  },
  {
   "cell_type": "code",
   "execution_count": 5,
   "id": "c7703587",
   "metadata": {},
   "outputs": [
    {
     "name": "stdout",
     "output_type": "stream",
     "text": [
      "<class 'pandas.core.frame.DataFrame'>\n",
      "RangeIndex: 1258 entries, 0 to 1257\n",
      "Data columns (total 15 columns):\n",
      " #   Column       Non-Null Count  Dtype  \n",
      "---  ------       --------------  -----  \n",
      " 0   Unnamed: 0   1258 non-null   int64  \n",
      " 1   symbol       1258 non-null   object \n",
      " 2   date         1258 non-null   object \n",
      " 3   close        1258 non-null   float64\n",
      " 4   high         1258 non-null   float64\n",
      " 5   low          1258 non-null   float64\n",
      " 6   open         1258 non-null   float64\n",
      " 7   volume       1258 non-null   int64  \n",
      " 8   adjClose     1258 non-null   float64\n",
      " 9   adjHigh      1258 non-null   float64\n",
      " 10  adjLow       1258 non-null   float64\n",
      " 11  adjOpen      1258 non-null   float64\n",
      " 12  adjVolume    1258 non-null   int64  \n",
      " 13  divCash      1258 non-null   float64\n",
      " 14  splitFactor  1258 non-null   float64\n",
      "dtypes: float64(10), int64(3), object(2)\n",
      "memory usage: 147.5+ KB\n"
     ]
    }
   ],
   "source": [
    "# Information of the dataset\n",
    "df.info()"
   ]
  },
  {
   "cell_type": "code",
   "execution_count": 6,
   "id": "85bd055b",
   "metadata": {},
   "outputs": [
    {
     "data": {
      "text/plain": [
       "(1258, 15)"
      ]
     },
     "execution_count": 6,
     "metadata": {},
     "output_type": "execute_result"
    }
   ],
   "source": [
    "# Number of rows and columns of the dataset\n",
    "df.shape"
   ]
  },
  {
   "cell_type": "code",
   "execution_count": 7,
   "id": "79656c2a",
   "metadata": {},
   "outputs": [
    {
     "data": {
      "text/plain": [
       "Index(['Unnamed: 0', 'symbol', 'date', 'close', 'high', 'low', 'open',\n",
       "       'volume', 'adjClose', 'adjHigh', 'adjLow', 'adjOpen', 'adjVolume',\n",
       "       'divCash', 'splitFactor'],\n",
       "      dtype='object')"
      ]
     },
     "execution_count": 7,
     "metadata": {},
     "output_type": "execute_result"
    }
   ],
   "source": [
    "# Column names of the dataset\n",
    "df.columns"
   ]
  },
  {
   "cell_type": "code",
   "execution_count": 8,
   "id": "77a54b3b",
   "metadata": {},
   "outputs": [
    {
     "data": {
      "text/html": [
       "<div>\n",
       "<style scoped>\n",
       "    .dataframe tbody tr th:only-of-type {\n",
       "        vertical-align: middle;\n",
       "    }\n",
       "\n",
       "    .dataframe tbody tr th {\n",
       "        vertical-align: top;\n",
       "    }\n",
       "\n",
       "    .dataframe thead th {\n",
       "        text-align: right;\n",
       "    }\n",
       "</style>\n",
       "<table border=\"1\" class=\"dataframe\">\n",
       "  <thead>\n",
       "    <tr style=\"text-align: right;\">\n",
       "      <th></th>\n",
       "      <th>count</th>\n",
       "      <th>mean</th>\n",
       "      <th>std</th>\n",
       "      <th>min</th>\n",
       "      <th>25%</th>\n",
       "      <th>50%</th>\n",
       "      <th>75%</th>\n",
       "      <th>max</th>\n",
       "    </tr>\n",
       "  </thead>\n",
       "  <tbody>\n",
       "    <tr>\n",
       "      <th>Unnamed: 0</th>\n",
       "      <td>1258.0</td>\n",
       "      <td>6.285000e+02</td>\n",
       "      <td>3.632976e+02</td>\n",
       "      <td>0.000000e+00</td>\n",
       "      <td>3.142500e+02</td>\n",
       "      <td>6.285000e+02</td>\n",
       "      <td>9.427500e+02</td>\n",
       "      <td>1.257000e+03</td>\n",
       "    </tr>\n",
       "    <tr>\n",
       "      <th>close</th>\n",
       "      <td>1258.0</td>\n",
       "      <td>1.677240e+02</td>\n",
       "      <td>5.685080e+01</td>\n",
       "      <td>9.034000e+01</td>\n",
       "      <td>1.163275e+02</td>\n",
       "      <td>1.604850e+02</td>\n",
       "      <td>1.997850e+02</td>\n",
       "      <td>3.272000e+02</td>\n",
       "    </tr>\n",
       "    <tr>\n",
       "      <th>high</th>\n",
       "      <td>1258.0</td>\n",
       "      <td>1.692305e+02</td>\n",
       "      <td>5.750013e+01</td>\n",
       "      <td>9.167000e+01</td>\n",
       "      <td>1.174050e+02</td>\n",
       "      <td>1.620800e+02</td>\n",
       "      <td>2.012775e+02</td>\n",
       "      <td>3.278500e+02</td>\n",
       "    </tr>\n",
       "    <tr>\n",
       "      <th>low</th>\n",
       "      <td>1258.0</td>\n",
       "      <td>1.660398e+02</td>\n",
       "      <td>5.600677e+01</td>\n",
       "      <td>8.947000e+01</td>\n",
       "      <td>1.156025e+02</td>\n",
       "      <td>1.589742e+02</td>\n",
       "      <td>1.981700e+02</td>\n",
       "      <td>3.233500e+02</td>\n",
       "    </tr>\n",
       "    <tr>\n",
       "      <th>open</th>\n",
       "      <td>1258.0</td>\n",
       "      <td>1.675483e+02</td>\n",
       "      <td>5.661271e+01</td>\n",
       "      <td>9.000000e+01</td>\n",
       "      <td>1.164825e+02</td>\n",
       "      <td>1.603450e+02</td>\n",
       "      <td>1.995200e+02</td>\n",
       "      <td>3.247300e+02</td>\n",
       "    </tr>\n",
       "    <tr>\n",
       "      <th>volume</th>\n",
       "      <td>1258.0</td>\n",
       "      <td>3.500397e+07</td>\n",
       "      <td>1.729100e+07</td>\n",
       "      <td>1.136204e+07</td>\n",
       "      <td>2.359205e+07</td>\n",
       "      <td>3.064771e+07</td>\n",
       "      <td>4.100487e+07</td>\n",
       "      <td>1.622063e+08</td>\n",
       "    </tr>\n",
       "    <tr>\n",
       "      <th>adjClose</th>\n",
       "      <td>1258.0</td>\n",
       "      <td>1.626667e+02</td>\n",
       "      <td>5.873382e+01</td>\n",
       "      <td>8.495435e+01</td>\n",
       "      <td>1.094845e+02</td>\n",
       "      <td>1.547106e+02</td>\n",
       "      <td>1.969601e+02</td>\n",
       "      <td>3.263371e+02</td>\n",
       "    </tr>\n",
       "    <tr>\n",
       "      <th>adjHigh</th>\n",
       "      <td>1258.0</td>\n",
       "      <td>1.641311e+02</td>\n",
       "      <td>5.940284e+01</td>\n",
       "      <td>8.620506e+01</td>\n",
       "      <td>1.103936e+02</td>\n",
       "      <td>1.560919e+02</td>\n",
       "      <td>1.984284e+02</td>\n",
       "      <td>3.263571e+02</td>\n",
       "    </tr>\n",
       "    <tr>\n",
       "      <th>adjLow</th>\n",
       "      <td>1258.0</td>\n",
       "      <td>1.610280e+02</td>\n",
       "      <td>5.786925e+01</td>\n",
       "      <td>8.413622e+01</td>\n",
       "      <td>1.079625e+02</td>\n",
       "      <td>1.530543e+02</td>\n",
       "      <td>1.952816e+02</td>\n",
       "      <td>3.224973e+02</td>\n",
       "    </tr>\n",
       "    <tr>\n",
       "      <th>adjOpen</th>\n",
       "      <td>1258.0</td>\n",
       "      <td>1.624931e+02</td>\n",
       "      <td>5.849456e+01</td>\n",
       "      <td>8.463462e+01</td>\n",
       "      <td>1.091350e+02</td>\n",
       "      <td>1.544100e+02</td>\n",
       "      <td>1.964529e+02</td>\n",
       "      <td>3.238737e+02</td>\n",
       "    </tr>\n",
       "    <tr>\n",
       "      <th>adjVolume</th>\n",
       "      <td>1258.0</td>\n",
       "      <td>3.500397e+07</td>\n",
       "      <td>1.729100e+07</td>\n",
       "      <td>1.136204e+07</td>\n",
       "      <td>2.359205e+07</td>\n",
       "      <td>3.064771e+07</td>\n",
       "      <td>4.100487e+07</td>\n",
       "      <td>1.622063e+08</td>\n",
       "    </tr>\n",
       "    <tr>\n",
       "      <th>divCash</th>\n",
       "      <td>1258.0</td>\n",
       "      <td>1.047695e-02</td>\n",
       "      <td>8.336553e-02</td>\n",
       "      <td>0.000000e+00</td>\n",
       "      <td>0.000000e+00</td>\n",
       "      <td>0.000000e+00</td>\n",
       "      <td>0.000000e+00</td>\n",
       "      <td>8.200000e-01</td>\n",
       "    </tr>\n",
       "    <tr>\n",
       "      <th>splitFactor</th>\n",
       "      <td>1258.0</td>\n",
       "      <td>1.000000e+00</td>\n",
       "      <td>0.000000e+00</td>\n",
       "      <td>1.000000e+00</td>\n",
       "      <td>1.000000e+00</td>\n",
       "      <td>1.000000e+00</td>\n",
       "      <td>1.000000e+00</td>\n",
       "      <td>1.000000e+00</td>\n",
       "    </tr>\n",
       "  </tbody>\n",
       "</table>\n",
       "</div>"
      ],
      "text/plain": [
       "              count          mean           std           min           25%  \\\n",
       "Unnamed: 0   1258.0  6.285000e+02  3.632976e+02  0.000000e+00  3.142500e+02   \n",
       "close        1258.0  1.677240e+02  5.685080e+01  9.034000e+01  1.163275e+02   \n",
       "high         1258.0  1.692305e+02  5.750013e+01  9.167000e+01  1.174050e+02   \n",
       "low          1258.0  1.660398e+02  5.600677e+01  8.947000e+01  1.156025e+02   \n",
       "open         1258.0  1.675483e+02  5.661271e+01  9.000000e+01  1.164825e+02   \n",
       "volume       1258.0  3.500397e+07  1.729100e+07  1.136204e+07  2.359205e+07   \n",
       "adjClose     1258.0  1.626667e+02  5.873382e+01  8.495435e+01  1.094845e+02   \n",
       "adjHigh      1258.0  1.641311e+02  5.940284e+01  8.620506e+01  1.103936e+02   \n",
       "adjLow       1258.0  1.610280e+02  5.786925e+01  8.413622e+01  1.079625e+02   \n",
       "adjOpen      1258.0  1.624931e+02  5.849456e+01  8.463462e+01  1.091350e+02   \n",
       "adjVolume    1258.0  3.500397e+07  1.729100e+07  1.136204e+07  2.359205e+07   \n",
       "divCash      1258.0  1.047695e-02  8.336553e-02  0.000000e+00  0.000000e+00   \n",
       "splitFactor  1258.0  1.000000e+00  0.000000e+00  1.000000e+00  1.000000e+00   \n",
       "\n",
       "                      50%           75%           max  \n",
       "Unnamed: 0   6.285000e+02  9.427500e+02  1.257000e+03  \n",
       "close        1.604850e+02  1.997850e+02  3.272000e+02  \n",
       "high         1.620800e+02  2.012775e+02  3.278500e+02  \n",
       "low          1.589742e+02  1.981700e+02  3.233500e+02  \n",
       "open         1.603450e+02  1.995200e+02  3.247300e+02  \n",
       "volume       3.064771e+07  4.100487e+07  1.622063e+08  \n",
       "adjClose     1.547106e+02  1.969601e+02  3.263371e+02  \n",
       "adjHigh      1.560919e+02  1.984284e+02  3.263571e+02  \n",
       "adjLow       1.530543e+02  1.952816e+02  3.224973e+02  \n",
       "adjOpen      1.544100e+02  1.964529e+02  3.238737e+02  \n",
       "adjVolume    3.064771e+07  4.100487e+07  1.622063e+08  \n",
       "divCash      0.000000e+00  0.000000e+00  8.200000e-01  \n",
       "splitFactor  1.000000e+00  1.000000e+00  1.000000e+00  "
      ]
     },
     "execution_count": 8,
     "metadata": {},
     "output_type": "execute_result"
    }
   ],
   "source": [
    "# Descriptive Statistics\n",
    "df.describe().T"
   ]
  },
  {
   "cell_type": "code",
   "execution_count": 9,
   "id": "43c929ba",
   "metadata": {},
   "outputs": [],
   "source": [
    "# Use only the 'close' price for prediction\n",
    "data = df['close'].values.reshape(-1, 1)"
   ]
  },
  {
   "cell_type": "code",
   "execution_count": 10,
   "id": "5af9acd9",
   "metadata": {},
   "outputs": [],
   "source": [
    "# Convert the 'date' column to datetime and sort by date\n",
    "df['date'] = pd.to_datetime(df['date'])\n",
    "df = df.sort_values(by='date')"
   ]
  },
  {
   "cell_type": "code",
   "execution_count": 11,
   "id": "bf065582",
   "metadata": {},
   "outputs": [],
   "source": [
    "# Set 'date' column as the index\n",
    "df.set_index('date', inplace=True)"
   ]
  },
  {
   "cell_type": "markdown",
   "id": "671dd588",
   "metadata": {},
   "source": [
    "#### Normalize the data"
   ]
  },
  {
   "cell_type": "code",
   "execution_count": 12,
   "id": "e3b7be2e",
   "metadata": {},
   "outputs": [],
   "source": [
    "scaler = MinMaxScaler(feature_range=(0, 1))\n",
    "data = scaler.fit_transform(data)"
   ]
  },
  {
   "cell_type": "markdown",
   "id": "7ebd15bf",
   "metadata": {},
   "source": [
    "#### Split the data into training and testing sets"
   ]
  },
  {
   "cell_type": "code",
   "execution_count": 13,
   "id": "3ac56ef4",
   "metadata": {},
   "outputs": [],
   "source": [
    "train_size = int(len(data) * 0.67)\n",
    "test_size = len(data) - train_size\n",
    "train, test = data[0:train_size, :], data[train_size:len(data), :]"
   ]
  },
  {
   "cell_type": "markdown",
   "id": "72a2a51f",
   "metadata": {},
   "source": [
    "#### Create a function to prepare data for LSTM"
   ]
  },
  {
   "cell_type": "code",
   "execution_count": 14,
   "id": "47e6466b",
   "metadata": {},
   "outputs": [],
   "source": [
    "def create_dataset(dataset, look_back=1):\n",
    "    X, Y = [], []\n",
    "    for i in range(len(dataset) - look_back):\n",
    "        a = dataset[i:(i + look_back), 0]\n",
    "        X.append(a)\n",
    "        Y.append(dataset[i + look_back, 0])\n",
    "    return np.array(X), np.array(Y)\n",
    "\n",
    "look_back = 1\n",
    "trainX, trainY = create_dataset(train, look_back)\n",
    "testX, testY = create_dataset(test, look_back)"
   ]
  },
  {
   "cell_type": "markdown",
   "id": "d63827e4",
   "metadata": {},
   "source": [
    "#### Reshape input to be [samples, time steps, features]"
   ]
  },
  {
   "cell_type": "code",
   "execution_count": 15,
   "id": "77fd7599",
   "metadata": {},
   "outputs": [],
   "source": [
    "trainX = np.reshape(trainX, (trainX.shape[0], 1, trainX.shape[1]))\n",
    "testX = np.reshape(testX, (testX.shape[0], 1, testX.shape[1]))"
   ]
  },
  {
   "cell_type": "markdown",
   "id": "efad9bc2",
   "metadata": {},
   "source": [
    "#### Build the LSTM model"
   ]
  },
  {
   "cell_type": "code",
   "execution_count": 16,
   "id": "9d2b825a",
   "metadata": {},
   "outputs": [],
   "source": [
    "model = Sequential()\n",
    "model.add(LSTM(4, input_shape=(1, look_back)))\n",
    "model.add(Dense(1))\n",
    "model.compile(loss='mean_squared_error', optimizer='adam')"
   ]
  },
  {
   "cell_type": "markdown",
   "id": "ae4d44c0",
   "metadata": {},
   "source": [
    "#### Train the model"
   ]
  },
  {
   "cell_type": "code",
   "execution_count": 17,
   "id": "3ae2e34b",
   "metadata": {},
   "outputs": [
    {
     "name": "stdout",
     "output_type": "stream",
     "text": [
      "Epoch 1/100\n",
      "841/841 - 6s - loss: 0.0212 - 6s/epoch - 7ms/step\n",
      "Epoch 2/100\n",
      "841/841 - 3s - loss: 0.0079 - 3s/epoch - 3ms/step\n",
      "Epoch 3/100\n",
      "841/841 - 3s - loss: 0.0012 - 3s/epoch - 3ms/step\n",
      "Epoch 4/100\n",
      "841/841 - 3s - loss: 9.4594e-05 - 3s/epoch - 3ms/step\n",
      "Epoch 5/100\n",
      "841/841 - 3s - loss: 8.5135e-05 - 3s/epoch - 4ms/step\n",
      "Epoch 6/100\n",
      "841/841 - 3s - loss: 8.5091e-05 - 3s/epoch - 3ms/step\n",
      "Epoch 7/100\n",
      "841/841 - 3s - loss: 8.4526e-05 - 3s/epoch - 4ms/step\n",
      "Epoch 8/100\n",
      "841/841 - 5s - loss: 8.2210e-05 - 5s/epoch - 6ms/step\n",
      "Epoch 9/100\n",
      "841/841 - 3s - loss: 8.2127e-05 - 3s/epoch - 4ms/step\n",
      "Epoch 10/100\n",
      "841/841 - 3s - loss: 8.0174e-05 - 3s/epoch - 3ms/step\n",
      "Epoch 11/100\n",
      "841/841 - 3s - loss: 8.4680e-05 - 3s/epoch - 3ms/step\n",
      "Epoch 12/100\n",
      "841/841 - 3s - loss: 7.9134e-05 - 3s/epoch - 3ms/step\n",
      "Epoch 13/100\n",
      "841/841 - 3s - loss: 8.0917e-05 - 3s/epoch - 4ms/step\n",
      "Epoch 14/100\n",
      "841/841 - 3s - loss: 8.0198e-05 - 3s/epoch - 4ms/step\n",
      "Epoch 15/100\n",
      "841/841 - 3s - loss: 8.2820e-05 - 3s/epoch - 3ms/step\n",
      "Epoch 16/100\n",
      "841/841 - 3s - loss: 7.9469e-05 - 3s/epoch - 3ms/step\n",
      "Epoch 17/100\n",
      "841/841 - 3s - loss: 7.8985e-05 - 3s/epoch - 3ms/step\n",
      "Epoch 18/100\n",
      "841/841 - 3s - loss: 7.9533e-05 - 3s/epoch - 3ms/step\n",
      "Epoch 19/100\n",
      "841/841 - 3s - loss: 8.0992e-05 - 3s/epoch - 3ms/step\n",
      "Epoch 20/100\n",
      "841/841 - 3s - loss: 8.3933e-05 - 3s/epoch - 4ms/step\n",
      "Epoch 21/100\n",
      "841/841 - 3s - loss: 7.9468e-05 - 3s/epoch - 4ms/step\n",
      "Epoch 22/100\n",
      "841/841 - 3s - loss: 7.9295e-05 - 3s/epoch - 3ms/step\n",
      "Epoch 23/100\n",
      "841/841 - 3s - loss: 8.2493e-05 - 3s/epoch - 3ms/step\n",
      "Epoch 24/100\n",
      "841/841 - 2s - loss: 8.0779e-05 - 2s/epoch - 3ms/step\n",
      "Epoch 25/100\n",
      "841/841 - 3s - loss: 7.8071e-05 - 3s/epoch - 3ms/step\n",
      "Epoch 26/100\n",
      "841/841 - 3s - loss: 7.9282e-05 - 3s/epoch - 3ms/step\n",
      "Epoch 27/100\n",
      "841/841 - 3s - loss: 8.0386e-05 - 3s/epoch - 4ms/step\n",
      "Epoch 28/100\n",
      "841/841 - 3s - loss: 7.9484e-05 - 3s/epoch - 4ms/step\n",
      "Epoch 29/100\n",
      "841/841 - 3s - loss: 7.9284e-05 - 3s/epoch - 3ms/step\n",
      "Epoch 30/100\n",
      "841/841 - 3s - loss: 7.8994e-05 - 3s/epoch - 3ms/step\n",
      "Epoch 31/100\n",
      "841/841 - 4s - loss: 7.9521e-05 - 4s/epoch - 4ms/step\n",
      "Epoch 32/100\n",
      "841/841 - 4s - loss: 8.2783e-05 - 4s/epoch - 4ms/step\n",
      "Epoch 33/100\n",
      "841/841 - 4s - loss: 8.0283e-05 - 4s/epoch - 4ms/step\n",
      "Epoch 34/100\n",
      "841/841 - 3s - loss: 8.6100e-05 - 3s/epoch - 4ms/step\n",
      "Epoch 35/100\n",
      "841/841 - 4s - loss: 7.9420e-05 - 4s/epoch - 5ms/step\n",
      "Epoch 36/100\n",
      "841/841 - 3s - loss: 8.1677e-05 - 3s/epoch - 4ms/step\n",
      "Epoch 37/100\n",
      "841/841 - 3s - loss: 8.3036e-05 - 3s/epoch - 4ms/step\n",
      "Epoch 38/100\n",
      "841/841 - 3s - loss: 8.1692e-05 - 3s/epoch - 3ms/step\n",
      "Epoch 39/100\n",
      "841/841 - 3s - loss: 8.2264e-05 - 3s/epoch - 3ms/step\n",
      "Epoch 40/100\n",
      "841/841 - 3s - loss: 7.7742e-05 - 3s/epoch - 4ms/step\n",
      "Epoch 41/100\n",
      "841/841 - 4s - loss: 7.7797e-05 - 4s/epoch - 5ms/step\n",
      "Epoch 42/100\n",
      "841/841 - 3s - loss: 8.0671e-05 - 3s/epoch - 4ms/step\n",
      "Epoch 43/100\n",
      "841/841 - 3s - loss: 7.8555e-05 - 3s/epoch - 3ms/step\n",
      "Epoch 44/100\n",
      "841/841 - 3s - loss: 7.9490e-05 - 3s/epoch - 3ms/step\n",
      "Epoch 45/100\n",
      "841/841 - 3s - loss: 8.1030e-05 - 3s/epoch - 3ms/step\n",
      "Epoch 46/100\n",
      "841/841 - 3s - loss: 8.3216e-05 - 3s/epoch - 4ms/step\n",
      "Epoch 47/100\n",
      "841/841 - 3s - loss: 8.3361e-05 - 3s/epoch - 3ms/step\n",
      "Epoch 48/100\n",
      "841/841 - 3s - loss: 8.3252e-05 - 3s/epoch - 4ms/step\n",
      "Epoch 49/100\n",
      "841/841 - 5s - loss: 8.0957e-05 - 5s/epoch - 6ms/step\n",
      "Epoch 50/100\n",
      "841/841 - 4s - loss: 8.1002e-05 - 4s/epoch - 5ms/step\n",
      "Epoch 51/100\n",
      "841/841 - 3s - loss: 8.3694e-05 - 3s/epoch - 4ms/step\n",
      "Epoch 52/100\n",
      "841/841 - 3s - loss: 7.9728e-05 - 3s/epoch - 4ms/step\n",
      "Epoch 53/100\n",
      "841/841 - 3s - loss: 8.0696e-05 - 3s/epoch - 3ms/step\n",
      "Epoch 54/100\n",
      "841/841 - 4s - loss: 8.0427e-05 - 4s/epoch - 4ms/step\n",
      "Epoch 55/100\n",
      "841/841 - 3s - loss: 8.0420e-05 - 3s/epoch - 4ms/step\n",
      "Epoch 56/100\n",
      "841/841 - 3s - loss: 8.0936e-05 - 3s/epoch - 3ms/step\n",
      "Epoch 57/100\n",
      "841/841 - 3s - loss: 8.2899e-05 - 3s/epoch - 3ms/step\n",
      "Epoch 58/100\n",
      "841/841 - 3s - loss: 8.2327e-05 - 3s/epoch - 4ms/step\n",
      "Epoch 59/100\n",
      "841/841 - 3s - loss: 8.0784e-05 - 3s/epoch - 3ms/step\n",
      "Epoch 60/100\n",
      "841/841 - 3s - loss: 8.2088e-05 - 3s/epoch - 4ms/step\n",
      "Epoch 61/100\n",
      "841/841 - 3s - loss: 7.8442e-05 - 3s/epoch - 4ms/step\n",
      "Epoch 62/100\n",
      "841/841 - 3s - loss: 7.8256e-05 - 3s/epoch - 3ms/step\n",
      "Epoch 63/100\n",
      "841/841 - 3s - loss: 8.3399e-05 - 3s/epoch - 4ms/step\n",
      "Epoch 64/100\n",
      "841/841 - 3s - loss: 8.0444e-05 - 3s/epoch - 4ms/step\n",
      "Epoch 65/100\n",
      "841/841 - 3s - loss: 7.9139e-05 - 3s/epoch - 3ms/step\n",
      "Epoch 66/100\n",
      "841/841 - 3s - loss: 8.0228e-05 - 3s/epoch - 3ms/step\n",
      "Epoch 67/100\n",
      "841/841 - 3s - loss: 7.9702e-05 - 3s/epoch - 3ms/step\n",
      "Epoch 68/100\n",
      "841/841 - 3s - loss: 8.1009e-05 - 3s/epoch - 3ms/step\n",
      "Epoch 69/100\n",
      "841/841 - 3s - loss: 7.9761e-05 - 3s/epoch - 4ms/step\n",
      "Epoch 70/100\n",
      "841/841 - 3s - loss: 7.9687e-05 - 3s/epoch - 4ms/step\n",
      "Epoch 71/100\n",
      "841/841 - 3s - loss: 8.3443e-05 - 3s/epoch - 4ms/step\n",
      "Epoch 72/100\n",
      "841/841 - 3s - loss: 8.1367e-05 - 3s/epoch - 4ms/step\n",
      "Epoch 73/100\n",
      "841/841 - 3s - loss: 7.7159e-05 - 3s/epoch - 3ms/step\n",
      "Epoch 74/100\n",
      "841/841 - 3s - loss: 7.9608e-05 - 3s/epoch - 4ms/step\n",
      "Epoch 75/100\n",
      "841/841 - 3s - loss: 7.9257e-05 - 3s/epoch - 4ms/step\n",
      "Epoch 76/100\n",
      "841/841 - 3s - loss: 8.0092e-05 - 3s/epoch - 4ms/step\n",
      "Epoch 77/100\n",
      "841/841 - 3s - loss: 8.1423e-05 - 3s/epoch - 4ms/step\n",
      "Epoch 78/100\n",
      "841/841 - 3s - loss: 8.1833e-05 - 3s/epoch - 3ms/step\n",
      "Epoch 79/100\n",
      "841/841 - 2s - loss: 8.1650e-05 - 2s/epoch - 3ms/step\n",
      "Epoch 80/100\n",
      "841/841 - 3s - loss: 8.1894e-05 - 3s/epoch - 3ms/step\n",
      "Epoch 81/100\n",
      "841/841 - 3s - loss: 7.7881e-05 - 3s/epoch - 4ms/step\n",
      "Epoch 82/100\n",
      "841/841 - 4s - loss: 8.2570e-05 - 4s/epoch - 4ms/step\n",
      "Epoch 83/100\n",
      "841/841 - 3s - loss: 8.0336e-05 - 3s/epoch - 4ms/step\n",
      "Epoch 84/100\n",
      "841/841 - 3s - loss: 7.8917e-05 - 3s/epoch - 3ms/step\n",
      "Epoch 85/100\n",
      "841/841 - 3s - loss: 7.8793e-05 - 3s/epoch - 3ms/step\n",
      "Epoch 86/100\n",
      "841/841 - 3s - loss: 8.0136e-05 - 3s/epoch - 4ms/step\n",
      "Epoch 87/100\n",
      "841/841 - 3s - loss: 8.1749e-05 - 3s/epoch - 4ms/step\n",
      "Epoch 88/100\n",
      "841/841 - 3s - loss: 8.2368e-05 - 3s/epoch - 4ms/step\n",
      "Epoch 89/100\n",
      "841/841 - 3s - loss: 8.2854e-05 - 3s/epoch - 3ms/step\n",
      "Epoch 90/100\n",
      "841/841 - 3s - loss: 8.0566e-05 - 3s/epoch - 3ms/step\n",
      "Epoch 91/100\n",
      "841/841 - 3s - loss: 7.9979e-05 - 3s/epoch - 4ms/step\n",
      "Epoch 92/100\n",
      "841/841 - 3s - loss: 7.9017e-05 - 3s/epoch - 4ms/step\n",
      "Epoch 93/100\n",
      "841/841 - 3s - loss: 7.8750e-05 - 3s/epoch - 3ms/step\n",
      "Epoch 94/100\n",
      "841/841 - 3s - loss: 8.0693e-05 - 3s/epoch - 3ms/step\n",
      "Epoch 95/100\n",
      "841/841 - 2s - loss: 8.0315e-05 - 2s/epoch - 3ms/step\n",
      "Epoch 96/100\n",
      "841/841 - 3s - loss: 7.8740e-05 - 3s/epoch - 3ms/step\n",
      "Epoch 97/100\n",
      "841/841 - 3s - loss: 7.9647e-05 - 3s/epoch - 3ms/step\n",
      "Epoch 98/100\n",
      "841/841 - 4s - loss: 7.9246e-05 - 4s/epoch - 4ms/step\n",
      "Epoch 99/100\n",
      "841/841 - 4s - loss: 8.1468e-05 - 4s/epoch - 4ms/step\n",
      "Epoch 100/100\n",
      "841/841 - 3s - loss: 8.0169e-05 - 3s/epoch - 3ms/step\n"
     ]
    },
    {
     "data": {
      "text/plain": [
       "<keras.src.callbacks.History at 0x1eadcfb33a0>"
      ]
     },
     "execution_count": 17,
     "metadata": {},
     "output_type": "execute_result"
    }
   ],
   "source": [
    "model.fit(trainX, trainY, epochs=100, batch_size=1, verbose=2)"
   ]
  },
  {
   "cell_type": "markdown",
   "id": "7605315b",
   "metadata": {},
   "source": [
    "#### Make predictions"
   ]
  },
  {
   "cell_type": "code",
   "execution_count": 18,
   "id": "50c9b87f",
   "metadata": {},
   "outputs": [
    {
     "name": "stdout",
     "output_type": "stream",
     "text": [
      "27/27 [==============================] - 1s 3ms/step\n"
     ]
    }
   ],
   "source": [
    "trainPredict = model.predict(trainX)"
   ]
  },
  {
   "cell_type": "code",
   "execution_count": 19,
   "id": "4279c869",
   "metadata": {},
   "outputs": [
    {
     "name": "stdout",
     "output_type": "stream",
     "text": [
      "13/13 [==============================] - 0s 3ms/step\n"
     ]
    }
   ],
   "source": [
    "testPredict = model.predict(testX)"
   ]
  },
  {
   "cell_type": "markdown",
   "id": "117f9ce1",
   "metadata": {},
   "source": [
    "#### Create and fit the scaler"
   ]
  },
  {
   "cell_type": "code",
   "execution_count": 20,
   "id": "1c370e92",
   "metadata": {},
   "outputs": [
    {
     "data": {
      "text/plain": [
       "MinMaxScaler()"
      ]
     },
     "execution_count": 20,
     "metadata": {},
     "output_type": "execute_result"
    }
   ],
   "source": [
    "scaler = MinMaxScaler(feature_range=(0, 1))\n",
    "scaler.fit(data)"
   ]
  },
  {
   "cell_type": "markdown",
   "id": "e9a01bb3",
   "metadata": {},
   "source": [
    "#### Scale the data"
   ]
  },
  {
   "cell_type": "code",
   "execution_count": 21,
   "id": "eaba5385",
   "metadata": {},
   "outputs": [],
   "source": [
    "scaled_data = scaler.transform(data)"
   ]
  },
  {
   "cell_type": "markdown",
   "id": "65edf433",
   "metadata": {},
   "source": [
    "#### Inverse transform to get back to the original scale"
   ]
  },
  {
   "cell_type": "code",
   "execution_count": 22,
   "id": "69c25956",
   "metadata": {},
   "outputs": [],
   "source": [
    "original_data = scaler.inverse_transform(scaled_data)"
   ]
  },
  {
   "cell_type": "code",
   "execution_count": 23,
   "id": "5d5d41f1",
   "metadata": {},
   "outputs": [
    {
     "name": "stdout",
     "output_type": "stream",
     "text": [
      "__________________________________________________\n",
      "Original Data:\n",
      "__________________________________________________\n",
      "[[0.17607447]\n",
      " [0.17495567]\n",
      " [0.16862282]\n",
      " ...\n",
      " [0.96635143]\n",
      " [0.9563033 ]\n",
      " [0.96491598]]\n"
     ]
    }
   ],
   "source": [
    "print(\"_\"*50)\n",
    "print(\"Original Data:\")\n",
    "print(\"_\"*50)\n",
    "print(data)"
   ]
  },
  {
   "cell_type": "code",
   "execution_count": 24,
   "id": "eef97a6d",
   "metadata": {},
   "outputs": [
    {
     "name": "stdout",
     "output_type": "stream",
     "text": [
      "__________________________________________________\n",
      "Scaled Data:\n",
      "__________________________________________________\n",
      "[[0.17607447]\n",
      " [0.17495567]\n",
      " [0.16862282]\n",
      " ...\n",
      " [0.96635143]\n",
      " [0.9563033 ]\n",
      " [0.96491598]]\n"
     ]
    }
   ],
   "source": [
    "print(\"_\"*50)\n",
    "print(\"Scaled Data:\")\n",
    "print(\"_\"*50)\n",
    "print(scaled_data)"
   ]
  },
  {
   "cell_type": "code",
   "execution_count": 25,
   "id": "9e427830",
   "metadata": {},
   "outputs": [
    {
     "name": "stdout",
     "output_type": "stream",
     "text": [
      "__________________________________________________\n",
      "Original Data after Inverse Transform:\n",
      "__________________________________________________\n",
      "[[0.17607447]\n",
      " [0.17495567]\n",
      " [0.16862282]\n",
      " ...\n",
      " [0.96635143]\n",
      " [0.9563033 ]\n",
      " [0.96491598]]\n"
     ]
    }
   ],
   "source": [
    "print(\"_\"*50)\n",
    "print(\"Original Data after Inverse Transform:\")\n",
    "print(\"_\"*50)\n",
    "print(original_data)"
   ]
  },
  {
   "cell_type": "code",
   "execution_count": 26,
   "id": "beb51a87",
   "metadata": {},
   "outputs": [],
   "source": [
    "trainY = trainY.reshape(-1, 1)"
   ]
  },
  {
   "cell_type": "code",
   "execution_count": 27,
   "id": "abc63048",
   "metadata": {},
   "outputs": [],
   "source": [
    "testY = testY.reshape(-1,1)"
   ]
  },
  {
   "cell_type": "markdown",
   "id": "e3725eb0",
   "metadata": {},
   "source": [
    "#### Calculate the RMSE (Root Mean Squared Error)"
   ]
  },
  {
   "cell_type": "code",
   "execution_count": 28,
   "id": "82ce145e",
   "metadata": {},
   "outputs": [
    {
     "name": "stdout",
     "output_type": "stream",
     "text": [
      "Train RMSE :\n",
      "________________________________________\n",
      "Train RMSE: 0.01\n",
      "________________________________________\n"
     ]
    }
   ],
   "source": [
    "trainScore = sqrt(mean_squared_error(trainY, trainPredict))\n",
    "print(\"Train RMSE :\")\n",
    "print(\"_\"*40)\n",
    "print(\"Train RMSE: %.2f\" % trainScore)\n",
    "print(\"_\"*40)"
   ]
  },
  {
   "cell_type": "code",
   "execution_count": 29,
   "id": "2f7341b0",
   "metadata": {},
   "outputs": [
    {
     "name": "stdout",
     "output_type": "stream",
     "text": [
      "Test RMSE:\n",
      "________________________________________\n",
      "Test RMSE: 0.05\n",
      "________________________________________\n"
     ]
    }
   ],
   "source": [
    "testScore = sqrt(mean_squared_error(testY, testPredict))\n",
    "\n",
    "print(\"Test RMSE:\")\n",
    "print(\"_\" * 40)\n",
    "print(\"Test RMSE: %.2f\" % testScore)\n",
    "print(\"_\" * 40)"
   ]
  },
  {
   "cell_type": "markdown",
   "id": "181333ed",
   "metadata": {},
   "source": [
    "#### Plot the results"
   ]
  },
  {
   "cell_type": "code",
   "execution_count": 30,
   "id": "1185f09e",
   "metadata": {},
   "outputs": [
    {
     "data": {
      "image/png": "[encoded data removed]",
      "text/plain": [
       "<Figure size 1000x600 with 1 Axes>"
      ]
     },
     "metadata": {},
     "output_type": "display_data"
    }
   ],
   "source": [
    "plt.figure(figsize=(10, 6))\n",
    "plt.plot(scaler.inverse_transform(data), label='Actual Stock Price')\n",
    "plt.plot(trainPredict, label='Training Predictions')\n",
    "plt.plot(testPredict, label='Testing Predictions')\n",
    "plt.legend()\n",
    "plt.show()"
   ]
  },
  {
   "cell_type": "code",
   "execution_count": 31,
   "id": "01bcc069",
   "metadata": {},
   "outputs": [
    {
     "data": {
      "image/png": "[encoded data removed]",
      "text/plain": [
       "<Figure size 640x480 with 1 Axes>"
      ]
     },
     "metadata": {},
     "output_type": "display_data"
    }
   ],
   "source": [
    "import matplotlib.pyplot as plt\n",
    "\n",
    "# Plot the original data\n",
    "plt.plot(scaler.inverse_transform(data), label='Original Data', color='b')\n",
    "\n",
    "# Plot the training predictions\n",
    "trainPredictPlot = np.empty_like(data)\n",
    "trainPredictPlot[:, :] = np.nan\n",
    "trainPredictPlot[look_back:len(trainPredict) + look_back, :] = trainPredict\n",
    "plt.plot(trainPredictPlot, label='Training Predictions', color='g')\n",
    "\n",
    "# Plot the test predictions\n",
    "testPredictPlot = np.empty_like(data)\n",
    "testPredictPlot[:, :] = np.nan\n",
    "testPredictPlot[len(trainPredict) + (look_back * 2):len(trainPredict) + (look_back * 2) + len(testPredict), :] = testPredict\n",
    "plt.plot(testPredictPlot, label='Test Predictions', color='r')\n",
    "\n",
    "plt.legend()\n",
    "plt.show()"
   ]
  },
  {
   "cell_type": "code",
   "execution_count": 32,
   "id": "ef832e8f",
   "metadata": {},
   "outputs": [
    {
     "data": {
      "image/png": "[encoded data removed]",
      "text/plain": [
       "<Figure size 1000x600 with 1 Axes>"
      ]
     },
     "metadata": {},
     "output_type": "display_data"
    }
   ],
   "source": [
    "plt.figure(figsize=(10, 6))\n",
    "plt.plot(scaler.inverse_transform(data), label='Actual Stock Price')\n",
    "plt.plot(trainPredictPlot, label='Training Predictions')\n",
    "plt.plot(testPredictPlot, label='Testing Predictions')\n",
    "plt.legend()\n",
    "plt.show()"
   ]
  },
  {
   "cell_type": "code",
   "execution_count": null,
   "id": "3a522ca8",
   "metadata": {},
   "outputs": [],
   "source": []
  }
 ],
 "metadata": {
  "kernelspec": {
   "display_name": "Python 3 (ipykernel)",
   "language": "python",
   "name": "python3"
  },
  "language_info": {
   "codemirror_mode": {
    "name": "ipython",
    "version": 3
   },
   "file_extension": ".py",
   "mimetype": "text/x-python",
   "name": "python",
   "nbconvert_exporter": "python",
   "pygments_lexer": "ipython3",
   "version": "3.9.13"
  }
 },
 "nbformat": 4,
 "nbformat_minor": 5
}
